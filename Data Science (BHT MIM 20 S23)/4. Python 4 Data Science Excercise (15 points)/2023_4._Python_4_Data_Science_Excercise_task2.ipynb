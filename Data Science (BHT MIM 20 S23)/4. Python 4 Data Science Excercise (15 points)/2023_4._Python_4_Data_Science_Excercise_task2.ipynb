{
 "cells": [
  {
   "attachments": {},
   "cell_type": "markdown",
   "metadata": {},
   "source": [
    "# task 2"
   ]
  },
  {
   "cell_type": "code",
   "execution_count": 84,
   "metadata": {},
   "outputs": [
    {
     "name": "stdout",
     "output_type": "stream",
     "text": [
      "        Name  Population     Area     GDP Currency\n",
      "0    Germany    82521653   357385  3466.0      EUR\n",
      "1      Japan   126045000   377835  4938.0      YEN\n",
      "2     Canada    36503097  9984670  1529.0      CAD\n",
      "3      Italy    60501718   301338  1850.0      EUR\n",
      "4   Brazilia   208360000  8515770  1798.0     REAL\n",
      "5     Taiwan    23938272    36197   744.0      NTD\n",
      "6  Venezuela    28208977   912050     NaN      VED\n"
     ]
    }
   ],
   "source": [
    "import pandas as pd\n",
    "#1/12   Load the countries.csv directly via URL import into your panda data frame!\n",
    "url = \"https://raw.githubusercontent.com/WHPAN0108/BHT-DataScience-S23/main/python-DS/country.csv\"\n",
    "df = pd.read_csv(url)\n",
    "print(df)"
   ]
  },
  {
   "cell_type": "code",
   "execution_count": 85,
   "metadata": {},
   "outputs": [
    {
     "name": "stdout",
     "output_type": "stream",
     "text": [
      "         Population          Area          GDP\n",
      "count  7.000000e+00  7.000000e+00     6.000000\n",
      "mean   8.086839e+07  2.926464e+06  2387.500000\n",
      "std    6.670195e+07  4.348507e+06  1532.497537\n",
      "min    2.393827e+07  3.619700e+04   744.000000\n",
      "25%    3.235604e+07  3.293615e+05  1596.250000\n",
      "50%    6.050172e+07  3.778350e+05  1824.000000\n",
      "75%    1.042833e+08  4.713910e+06  3062.000000\n",
      "max    2.083600e+08  9.984670e+06  4938.000000\n"
     ]
    }
   ],
   "source": [
    "#2/12   Display descriptive statistics for the numerical column (count, mean, std, min, 25%, 50%, 75%, max) HINT: describe\n",
    "print(df.describe())"
   ]
  },
  {
   "cell_type": "code",
   "execution_count": 86,
   "metadata": {},
   "outputs": [
    {
     "name": "stdout",
     "output_type": "stream",
     "text": [
      "        Name  Population     Area     GDP Currency\n",
      "3      Italy    60501718   301338  1850.0      EUR\n",
      "4   Brazilia   208360000  8515770  1798.0     REAL\n",
      "5     Taiwan    23938272    36197   744.0      NTD\n",
      "6  Venezuela    28208977   912050     NaN      VED\n"
     ]
    }
   ],
   "source": [
    "#3/12   Show the last 4 rows of the data frame.\n",
    "print(df.tail(4))"
   ]
  },
  {
   "cell_type": "code",
   "execution_count": 87,
   "metadata": {},
   "outputs": [
    {
     "name": "stdout",
     "output_type": "stream",
     "text": [
      "      Name  Population    Area     GDP Currency\n",
      "0  Germany    82521653  357385  3466.0      EUR\n",
      "3    Italy    60501718  301338  1850.0      EUR\n"
     ]
    }
   ],
   "source": [
    "#4/12   Show all the rows of countries that have the EURO\n",
    "print(df[df['Currency'] == 'EUR'])"
   ]
  },
  {
   "cell_type": "code",
   "execution_count": 88,
   "metadata": {},
   "outputs": [
    {
     "name": "stdout",
     "output_type": "stream",
     "text": [
      "        Name Currency\n",
      "0    Germany      EUR\n",
      "1      Japan      YEN\n",
      "2     Canada      CAD\n",
      "3      Italy      EUR\n",
      "4   Brazilia     REAL\n",
      "5     Taiwan      NTD\n",
      "6  Venezuela      VED\n"
     ]
    }
   ],
   "source": [
    "#5/12   Show only name and Currency in a new data frame\n",
    "df1 = df[['Name', 'Currency']]\n",
    "print(df1)"
   ]
  },
  {
   "cell_type": "code",
   "execution_count": 89,
   "metadata": {},
   "outputs": [
    {
     "name": "stdout",
     "output_type": "stream",
     "text": [
      "      Name  Population    Area     GDP Currency\n",
      "0  Germany    82521653  357385  3466.0      EUR\n",
      "1    Japan   126045000  377835  4938.0      YEN\n"
     ]
    }
   ],
   "source": [
    "#6/12   Show only the rows/countries that have more than 2000 GDP (it is in Milliarden USD Bruttoinlandsprodukt)\n",
    "df2 = df[df['GDP'] > 2000]\n",
    "print(df2)"
   ]
  },
  {
   "cell_type": "code",
   "execution_count": 90,
   "metadata": {},
   "outputs": [
    {
     "name": "stdout",
     "output_type": "stream",
     "text": [
      "      Name  Population    Area     GDP Currency\n",
      "0  Germany    82521653  357385  3466.0      EUR\n",
      "1    Japan   126045000  377835  4938.0      YEN\n",
      "3    Italy    60501718  301338  1850.0      EUR\n"
     ]
    }
   ],
   "source": [
    "#7/12   Select all countries where with inhabitants between 50 and 150 Mio\n",
    "df3 = df[(df['Population'] >= 50000000) & (df['Population'] <= 150000000)]\n",
    "print(df3)"
   ]
  },
  {
   "cell_type": "code",
   "execution_count": 91,
   "metadata": {},
   "outputs": [
    {
     "name": "stdout",
     "output_type": "stream",
     "text": [
      "2387.5\n"
     ]
    }
   ],
   "source": [
    "#8/12   Calculate the GDP average (ignore the missing value)\n",
    "print(df['GDP'].mean())"
   ]
  },
  {
   "cell_type": "code",
   "execution_count": 92,
   "metadata": {},
   "outputs": [
    {
     "name": "stdout",
     "output_type": "stream",
     "text": [
      "2046.4285714285713\n"
     ]
    }
   ],
   "source": [
    "#9/12   Calculate the GDP average (missing value treated as 0)\n",
    "print(df['GDP'].fillna(0).mean())"
   ]
  },
  {
   "cell_type": "code",
   "execution_count": 93,
   "metadata": {},
   "outputs": [
    {
     "name": "stdout",
     "output_type": "stream",
     "text": [
      "        Name  Population     Area     GDP Currency  Population Density\n",
      "0    Germany    82521653   357385  3466.0      EUR          230.904075\n",
      "1      Japan   126045000   377835  4938.0      YEN          333.597999\n",
      "2     Canada    36503097  9984670  1529.0      CAD            3.655914\n",
      "3      Italy    60501718   301338  1850.0      EUR          200.776928\n",
      "4   Brazilia   208360000  8515770  1798.0     REAL           24.467547\n",
      "5     Taiwan    23938272    36197   744.0      NTD          661.333039\n",
      "6  Venezuela    28208977   912050     NaN      VED           30.929200\n"
     ]
    }
   ],
   "source": [
    "#10/12  Calculate the population density (population/area)  of all countries and add as new column\n",
    "df['Population Density'] = df['Population'] / df['Area']\n",
    "print(df)"
   ]
  },
  {
   "cell_type": "code",
   "execution_count": 94,
   "metadata": {},
   "outputs": [
    {
     "name": "stdout",
     "output_type": "stream",
     "text": [
      "        Name  Population     Area     GDP Currency  Population Density\n",
      "4   Brazilia   208360000  8515770  1798.0     REAL           24.467547\n",
      "2     Canada    36503097  9984670  1529.0      CAD            3.655914\n",
      "0    Germany    82521653   357385  3466.0      EUR          230.904075\n",
      "3      Italy    60501718   301338  1850.0      EUR          200.776928\n",
      "1      Japan   126045000   377835  4938.0      YEN          333.597999\n",
      "5     Taiwan    23938272    36197   744.0      NTD          661.333039\n",
      "6  Venezuela    28208977   912050     NaN      VED           30.929200\n"
     ]
    }
   ],
   "source": [
    "#11/12  Sort by country name alphabetically\n",
    "df = df.sort_values(by=['Name'])\n",
    "print(df)"
   ]
  },
  {
   "cell_type": "code",
   "execution_count": 95,
   "metadata": {},
   "outputs": [
    {
     "name": "stdout",
     "output_type": "stream",
     "text": [
      "        Name  Population   Area     GDP Currency  Population Density\n",
      "4   Brazilia   208360000    BIG  1798.0     REAL           24.467547\n",
      "2     Canada    36503097    BIG  1529.0      CAD            3.655914\n",
      "0    Germany    82521653  SMALL  3466.0      EUR          230.904075\n",
      "3      Italy    60501718  SMALL  1850.0      EUR          200.776928\n",
      "1      Japan   126045000  SMALL  4938.0      YEN          333.597999\n",
      "5     Taiwan    23938272  SMALL   744.0      NTD          661.333039\n",
      "6  Venezuela    28208977  SMALL     NaN      VED           30.929200\n"
     ]
    }
   ],
   "source": [
    "#12/12  Create a new data frame from the original where the area is changed:\n",
    "#all countries with > 1000000 get BIG and <= 1000000 get SMALL in the cell replaced!\n",
    "df['Area'] = df['Area'].apply(lambda x: 'BIG' if x > 1000000 else 'SMALL')\n",
    "print(df)"
   ]
  }
 ],
 "metadata": {
  "kernelspec": {
   "display_name": "pandas",
   "language": "python",
   "name": "python3"
  },
  "language_info": {
   "codemirror_mode": {
    "name": "ipython",
    "version": 3
   },
   "file_extension": ".py",
   "mimetype": "text/x-python",
   "name": "python",
   "nbconvert_exporter": "python",
   "pygments_lexer": "ipython3",
   "version": "3.10.11"
  },
  "orig_nbformat": 4
 },
 "nbformat": 4,
 "nbformat_minor": 2
}
