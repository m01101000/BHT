{
 "cells": [
  {
   "cell_type": "code",
   "execution_count": 1,
   "metadata": {},
   "outputs": [],
   "source": [
    "# import dependencies and load data\n",
    "import pandas as pd\n",
    "from sklearn.model_selection import train_test_split\n",
    "from sklearn.ensemble import RandomForestClassifier\n",
    "from sklearn.metrics import confusion_matrix, accuracy_score, precision_score, recall_score, f1_score, classification_report\n",
    "from sklearn.preprocessing import OneHotEncoder\n",
    "from sklearn.metrics import accuracy_score\n",
    "import numpy as np"
   ]
  },
  {
   "cell_type": "code",
   "execution_count": 2,
   "metadata": {},
   "outputs": [
    {
     "name": "stdout",
     "output_type": "stream",
     "text": [
      "test: [0 0 0 1 0 0 0 0 1 1 0 0 0 0 0 0 0 0 1 0]\n",
      "- - -\n",
      "Validation Accuracy: 0.7119047619047619\n",
      "- - -\n"
     ]
    }
   ],
   "source": [
    "# Load and preprocess the training data\n",
    "url = \"https://raw.githubusercontent.com/WHPAN0108/BHT-DataScience-S23/main/classification/data/Assigment/aug_train.csv\"\n",
    "train_data = pd.read_csv(url)\n",
    "train_data['experience'] = train_data['experience'].replace(['>20', '<1'], [21, 1])\n",
    "train_data['last_new_job'] = train_data['last_new_job'].replace(['>4', 'never'], [5, 0])\n",
    "categorical_columns = ['gender', 'relevent_experience', 'enrolled_university', 'education_level', 'major_discipline', 'company_type']\n",
    "for column in categorical_columns:\n",
    "    train_data[column].fillna(train_data[column].mode()[0], inplace=True)\n",
    "numerical_columns = ['city_development_index', 'training_hours']\n",
    "for column in numerical_columns:\n",
    "    train_data[column].fillna(train_data[column].median(), inplace=True)\n",
    "X_train = train_data.drop('target', axis=1)\n",
    "y_train = train_data['target']\n",
    "X_train = pd.get_dummies(X_train)\n",
    "X_train_split, X_val_split, y_train_split, y_val_split = train_test_split(X_train, y_train, test_size=0.2, random_state=42)\n",
    "\n",
    "# Train the Random Forest classifier\n",
    "rf_classifier = RandomForestClassifier()\n",
    "rf_classifier.fit(X_train_split, y_train_split)\n",
    "\n",
    "# Predict the target variable for the validation set\n",
    "y_val_pred = rf_classifier.predict(X_val_split)\n",
    "\n",
    "a = rf_classifier.predict(X_train)\n",
    "print(\"test:\", a[0:20])\n",
    "\n",
    "# Evaluate the accuracy of the model\n",
    "accuracy = accuracy_score(y_val_split, y_val_pred)\n",
    "print(\"- - -\")\n",
    "print(\"Validation Accuracy:\", accuracy)\n",
    "print(\"- - -\")\n"
   ]
  },
  {
   "cell_type": "code",
   "execution_count": 7,
   "metadata": {},
   "outputs": [
    {
     "name": "stdout",
     "output_type": "stream",
     "text": [
      "Confusion Matrix:\n",
      " [[1531   34]\n",
      " [  87  448]]\n",
      "Accuracy: 0.9423809523809524\n",
      "Precision: 0.9294605809128631\n",
      "Recall: 0.8373831775700935\n",
      "F1-score: 0.8810226155358899\n"
     ]
    }
   ],
   "source": [
    "url = \"https://raw.githubusercontent.com/WHPAN0108/BHT-DataScience-S23/main/classification/data/Assigment/aug_train.csv\"\n",
    "train_data = pd.read_csv(url)\n",
    "\n",
    "# True labels from the test set\n",
    "y_true = train_data['target']\n",
    "\n",
    "# Compute the confusion matrix\n",
    "conf_matrix = confusion_matrix(y_true, a)\n",
    "\n",
    "# Calculate the accuracy\n",
    "accuracy = accuracy_score(y_true, a)\n",
    "\n",
    "# Calculate the precision\n",
    "precision = precision_score(y_true, a)\n",
    "\n",
    "# Calculate the recall\n",
    "recall = recall_score(y_true, a)\n",
    "\n",
    "# Calculate the F1-score\n",
    "f1 = f1_score(y_true, a)\n",
    "\n",
    "# Print the results\n",
    "print(\"Confusion Matrix:\\n\", conf_matrix)\n",
    "print(\"Accuracy:\", accuracy)\n",
    "print(\"Precision:\", precision)\n",
    "print(\"Recall:\", recall)\n",
    "print(\"F1-score:\", f1)"
   ]
  },
  {
   "cell_type": "code",
   "execution_count": 4,
   "metadata": {},
   "outputs": [
    {
     "name": "stdout",
     "output_type": "stream",
     "text": [
      "Predicted targets: 100 [0 0 0 0 0 0 0 0 0 0 0 0 0 0 0 0 0 0 1 0 0 0 0 0 0 1 0 0 0 0 1 0 0 0 0 0 1\n",
      " 1 1 0 0 1 0 0 1 0 0 0 0 0 0 0 0 0 0 0 0 0 0 0 0 0 0 0 0 0 0 0 0 0 0 0 1 0\n",
      " 0 0 0 0 0 0 0 0 1 0 0 0 0 0 0 0 0 0 0 0 0 0 0 0 0 0]\n"
     ]
    }
   ],
   "source": [
    "import pandas as pd\n",
    "from sklearn.ensemble import RandomForestClassifier\n",
    "\n",
    "# Load the test dataset\n",
    "url = \"https://raw.githubusercontent.com/WHPAN0108/BHT-DataScience-S23/main/classification/data/Assigment/aug_test.csv\"\n",
    "test_data = pd.read_csv(url)\n",
    "test_data['experience'] = test_data['experience'].replace(['>20', '<1'], [21, 1])\n",
    "test_data['last_new_job'] = test_data['last_new_job'].replace(['>4', 'never'], [5, 0])\n",
    "categorical_columns = ['gender', 'relevent_experience', 'enrolled_university', 'education_level', 'major_discipline', 'company_type']\n",
    "for column in categorical_columns:\n",
    "    test_data[column].fillna(test_data[column].mode()[0], inplace=True)\n",
    "numerical_columns = ['city_development_index', 'training_hours']\n",
    "for column in numerical_columns:\n",
    "    test_data[column].fillna(test_data[column].median(), inplace=True)\n",
    "\n",
    "# Reorder columns to match the training dataset\n",
    "test_data = test_data.reindex(columns=X_val_split.columns, fill_value=0)\n",
    "\n",
    "# Predict the target variable for the new dataset\n",
    "y_pred = rf_classifier.predict(test_data)\n",
    "\n",
    "# Print the predicted values\n",
    "print(\"Predicted targets:\", len(y_pred), y_pred)"
   ]
  },
  {
   "cell_type": "code",
   "execution_count": 5,
   "metadata": {},
   "outputs": [
    {
     "name": "stdout",
     "output_type": "stream",
     "text": [
      "Confusion Matrix:\n",
      " [[75  3]\n",
      " [15  7]]\n",
      "Accuracy: 0.82\n",
      "Precision: 0.7\n",
      "Recall: 0.3181818181818182\n",
      "F1-score: 0.4375\n"
     ]
    }
   ],
   "source": [
    "url = \"https://raw.githubusercontent.com/WHPAN0108/BHT-DataScience-S23/main/classification/data/Assigment/aug_test.csv\"\n",
    "test_data = pd.read_csv(url)\n",
    "\n",
    "# True labels from the test set\n",
    "y_true = test_data['target']\n",
    "\n",
    "# Compute the confusion matrix\n",
    "conf_matrix = confusion_matrix(y_true, y_pred)\n",
    "\n",
    "# Calculate the accuracy\n",
    "accuracy = accuracy_score(y_true, y_pred)\n",
    "\n",
    "# Calculate the precision\n",
    "precision = precision_score(y_true, y_pred)\n",
    "\n",
    "# Calculate the recall\n",
    "recall = recall_score(y_true, y_pred)\n",
    "\n",
    "# Calculate the F1-score\n",
    "f1 = f1_score(y_true, y_pred)\n",
    "\n",
    "# Print the results\n",
    "print(\"Confusion Matrix:\\n\", conf_matrix)\n",
    "print(\"Accuracy:\", accuracy)\n",
    "print(\"Precision:\", precision)\n",
    "print(\"Recall:\", recall)\n",
    "print(\"F1-score:\", f1)"
   ]
  }
 ],
 "metadata": {
  "kernelspec": {
   "display_name": "pandas",
   "language": "python",
   "name": "python3"
  },
  "language_info": {
   "codemirror_mode": {
    "name": "ipython",
    "version": 3
   },
   "file_extension": ".py",
   "mimetype": "text/x-python",
   "name": "python",
   "nbconvert_exporter": "python",
   "pygments_lexer": "ipython3",
   "version": "3.10.11"
  },
  "orig_nbformat": 4
 },
 "nbformat": 4,
 "nbformat_minor": 2
}
