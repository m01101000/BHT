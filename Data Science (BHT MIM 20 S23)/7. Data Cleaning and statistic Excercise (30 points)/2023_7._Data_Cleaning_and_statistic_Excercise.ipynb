{
 "cells": [
  {
   "cell_type": "code",
   "execution_count": 1,
   "metadata": {},
   "outputs": [],
   "source": [
    "import pandas as pd"
   ]
  },
  {
   "cell_type": "code",
   "execution_count": 2,
   "metadata": {},
   "outputs": [
    {
     "name": "stdout",
     "output_type": "stream",
     "text": [
      "- - -\n",
      "Sample dataset for review before adding mean BMI\n",
      "\n",
      "      Participant_ID   Sex  Age Smoking_status  BMI  Disease\n",
      "25           3334466  Male   65       Previous  NaN        1\n",
      "1566         3334466  Male   65       Previous  NaN        2\n",
      "- - -\n",
      "Sample dataset for review after adding mean BMI\n",
      "\n",
      "      Participant_ID   Sex  Age Smoking_status        BMI  Disease\n",
      "25           3334466  Male   65       Previous  29.097902        1\n",
      "1566         3334466  Male   65       Previous  29.097902        2\n",
      "- - -\n"
     ]
    }
   ],
   "source": [
    "# task: data clean\n",
    "# 1. The missing value from BMI can be replaced with the mean value of  its regarding gender\n",
    "\n",
    "# Load Patient Information data\n",
    "url = \"https://raw.githubusercontent.com/WHPAN0108/BHT-DataScience-S23/main/data_clean/data/patient_info.csv\"\n",
    "patient_information = pd.read_csv(url)\n",
    "#print(patient_information)\n",
    "\n",
    "# Select lines where Participant_ID is 3334466\n",
    "selected_lines = patient_information[patient_information['Participant_ID'] == 3334466]\n",
    "print(\"- - -\")\n",
    "print(\"Sample dataset for review before adding mean BMI\")\n",
    "print(\"\")\n",
    "print(selected_lines)\n",
    "\n",
    "# Calculate mean BMI for each gender\n",
    "mean_bmi_by_gender = patient_information.groupby('Sex')['BMI'].mean()\n",
    "\n",
    "# Function to replace missing BMI values with mean BMI of the respective gender\n",
    "def replace_missing_bmi(row):\n",
    "    if pd.isna(row['BMI']):\n",
    "        return mean_bmi_by_gender[row['Sex']]\n",
    "    return row['BMI']\n",
    "\n",
    "# Replace missing BMI values\n",
    "patient_information['BMI'] = patient_information.apply(replace_missing_bmi, axis=1)\n",
    "\n",
    "# ckeck if it works: Select lines where Participant_ID is 3334466\n",
    "selected_lines = patient_information[patient_information['Participant_ID'] == 3334466]\n",
    "print(\"- - -\")\n",
    "print(\"Sample dataset for review after adding mean BMI\")\n",
    "print(\"\")\n",
    "print(selected_lines)\n",
    "print(\"- - -\")"
   ]
  },
  {
   "cell_type": "code",
   "execution_count": 3,
   "metadata": {},
   "outputs": [
    {
     "name": "stdout",
     "output_type": "stream",
     "text": [
      "- - -\n",
      "patient_information --> checked for plausibility\n",
      "\n",
      "      Patient_ID     Sex  Age Smoking_status      BMI  Disease\n",
      "0        1189380  Female   52          Never  27.8159        1\n",
      "1        5204198  Female   48       Previous  21.2515        2\n",
      "2        5261077    Male   69       Previous  31.5537        2\n",
      "3        2708891  Female   56       Previous  22.0026        2\n",
      "4        1733256    Male   64       Previous  29.7959        2\n",
      "...          ...     ...  ...            ...      ...      ...\n",
      "2341     4390445  Female   68          Never  27.5468        2\n",
      "2342     3339599    Male   67        Current  27.9906        1\n",
      "2343     3004488    Male   68       Previous  27.5640        1\n",
      "2344     4659389  Female   65          Never  32.1302        1\n",
      "2345     1487091  Female   67       Previous  27.4302        2\n",
      "\n",
      "[2340 rows x 6 columns]\n",
      "- - -\n",
      "hospital_visit --> checked for plausibility\n",
      "\n",
      "      Patient_ID   VisitDate\n",
      "0        1003300    1/7/2022\n",
      "1        1003300  27/10/2021\n",
      "2        1004025  19/05/2010\n",
      "3        1005551  25/08/2021\n",
      "4        1005551  29/06/2021\n",
      "...          ...         ...\n",
      "2886     6011693  27/10/2017\n",
      "2887     6015403  14/08/2018\n",
      "2888     6019982  19/01/2015\n",
      "2889     6020094  13/06/2021\n",
      "2890     6020094  22/04/2022\n",
      "\n",
      "[2807 rows x 2 columns]\n",
      "- - -\n"
     ]
    }
   ],
   "source": [
    "# Load Hospital Visit data\n",
    "url1 = \"https://raw.githubusercontent.com/WHPAN0108/BHT-DataScience-S23/main/data_clean/data/date.csv\"\n",
    "hospital_visit = pd.read_csv(url1)\n",
    "#print(hospital_visit)\n",
    "\n",
    "# task: data clean\n",
    "# 2. Do the sanity check for all the columns in 2 files, and remove the sample which does not pass the sanity check\n",
    "\n",
    "# Sanity check for Patient Information data\n",
    "patient_info_sanity_check = (\n",
    "    (patient_information['Participant_ID'].astype(str).str.len() == 7) &\n",
    "    (patient_information['Participant_ID'].astype(str).str.isnumeric()) &\n",
    "    (patient_information['Sex'].isin(['Male', 'Female'])) &\n",
    "    (patient_information['Age'].between(40, 120)) & # This research recruits volunteers who must be at least 40 years old. | The between method expects the values to be numeric\n",
    "    (patient_information['BMI'].between(15, 60)) & # The between method expects the values to be numeric\n",
    "    (patient_information['Smoking_status'].isin(['Never', 'Previous', 'Current', 'Prefer not to answer'])) &\n",
    "    (patient_information['Disease'].isin([1, 2]))\n",
    ")\n",
    "\n",
    "# Rename the Participant_ID column to Patient_ID\n",
    "patient_information.rename(columns={'Participant_ID': 'Patient_ID'}, inplace=True)\n",
    "\n",
    "# Sanity check for Hospital Visit data\n",
    "hospital_visit_sanity_check = (\n",
    "    (hospital_visit['Participant_ID'].astype(str).str.len() == 7) &\n",
    "    (pd.to_datetime(hospital_visit['VisitDate'], format=\"%d/%m/%Y\", errors='coerce').notnull())\n",
    ")\n",
    "\n",
    "# Rename the Participant_ID column to Patient_ID\n",
    "hospital_visit.rename(columns={'Participant_ID': 'Patient_ID'}, inplace=True)\n",
    "\n",
    "\n",
    "# Remove samples that do not pass the sanity check\n",
    "patient_information = patient_information[patient_info_sanity_check]\n",
    "hospital_visit = hospital_visit[hospital_visit_sanity_check]\n",
    "\n",
    "# Print the filtered DataFrames\n",
    "print(\"- - -\")\n",
    "print(\"patient_information --> checked for plausibility\")\n",
    "print(\"\")\n",
    "print(patient_information)\n",
    "print(\"- - -\")\n",
    "print(\"hospital_visit --> checked for plausibility\")\n",
    "print(\"\")\n",
    "print(hospital_visit)\n",
    "print(\"- - -\")"
   ]
  },
  {
   "cell_type": "code",
   "execution_count": 4,
   "metadata": {},
   "outputs": [
    {
     "name": "stdout",
     "output_type": "stream",
     "text": [
      "- - -\n",
      "Number of visits for each patient:\n",
      "\n",
      "      Patient_ID  Number_of_visit\n",
      "0        1003300                2\n",
      "1        1004025                1\n",
      "2        1005551                2\n",
      "3        1005594                1\n",
      "4        1005624                2\n",
      "...          ...              ...\n",
      "2128     6009769                1\n",
      "2129     6011693                4\n",
      "2130     6015403                1\n",
      "2131     6019982                1\n",
      "2132     6020094                2\n",
      "\n",
      "[2133 rows x 2 columns]\n",
      "- - -\n"
     ]
    }
   ],
   "source": [
    "# task: data clean\n",
    "# 3. Calculate the number of visits of each patient, if the VisitDate is missing, means they don't visit the hospital during that period\n",
    "\n",
    "# Calculate the number of visits for each patient\n",
    "visit_count = hospital_visit.groupby('Patient_ID')['VisitDate'].count().reset_index()\n",
    "\n",
    "# Rename the column to 'Number_of_visit'\n",
    "visit_count.rename(columns={'VisitDate': 'Number_of_visit'}, inplace=True)\n",
    "\n",
    "# Print the number of visits for each patient\n",
    "print(\"- - -\")\n",
    "print(\"Number of visits for each patient:\")\n",
    "print(\"\")\n",
    "print(visit_count)\n",
    "print(\"- - -\")"
   ]
  },
  {
   "cell_type": "code",
   "execution_count": 5,
   "metadata": {},
   "outputs": [
    {
     "name": "stdout",
     "output_type": "stream",
     "text": [
      "- - -\n",
      "Merged data:\n",
      "\n",
      "      Patient_ID     Sex  Age      BMI Smoking_status  Number_of_visit  \\\n",
      "0        1189380  Female   52  27.8159          Never              1.0   \n",
      "1        5204198  Female   48  21.2515       Previous              1.0   \n",
      "2        5261077    Male   69  31.5537       Previous              4.0   \n",
      "3        2708891  Female   56  22.0026       Previous              1.0   \n",
      "4        1733256    Male   64  29.7959       Previous              2.0   \n",
      "...          ...     ...  ...      ...            ...              ...   \n",
      "2335     4390445  Female   68  27.5468          Never              1.0   \n",
      "2336     3339599    Male   67  27.9906        Current              1.0   \n",
      "2337     3004488    Male   68  27.5640       Previous              1.0   \n",
      "2338     4659389  Female   65  32.1302          Never              1.0   \n",
      "2339     1487091  Female   67  27.4302       Previous              2.0   \n",
      "\n",
      "      Disease  \n",
      "0           1  \n",
      "1           2  \n",
      "2           2  \n",
      "3           2  \n",
      "4           2  \n",
      "...       ...  \n",
      "2335        2  \n",
      "2336        1  \n",
      "2337        1  \n",
      "2338        1  \n",
      "2339        2  \n",
      "\n",
      "[2340 rows x 7 columns]\n",
      "- - -\n"
     ]
    }
   ],
   "source": [
    "# task: data clean\n",
    "# 4. Merge two files with columns: Patient_ID, Sex, Age, BMI, Smoking_status, Number_of_visit, Disease\n",
    "\n",
    "# Merge patient information and visit count data\n",
    "merged_data = patient_information.merge(visit_count, on='Patient_ID', how='left')\n",
    "\n",
    "# Select the desired columns\n",
    "merged_data = merged_data[['Patient_ID', 'Sex', 'Age', 'BMI', 'Smoking_status', 'Number_of_visit', 'Disease']]\n",
    "\n",
    "# Print the merged data\n",
    "print(\"- - -\")\n",
    "print(\"Merged data:\")\n",
    "print(\"\")\n",
    "print(merged_data)\n",
    "print(\"- - -\")\n",
    "\n",
    "# Save the merged data as a CSV file\n",
    "merged_data.to_csv('merged_data.csv', index=False)"
   ]
  },
  {
   "cell_type": "code",
   "execution_count": 6,
   "metadata": {},
   "outputs": [],
   "source": [
    "import seaborn as sns\n",
    "import matplotlib.pyplot as plt\n",
    "from scipy import stats"
   ]
  },
  {
   "cell_type": "code",
   "execution_count": 7,
   "metadata": {},
   "outputs": [
    {
     "name": "stdout",
     "output_type": "stream",
     "text": [
      "T-Statistic:  1.4421102777490646\n",
      "P-Value:  0.14940520315454803\n"
     ]
    },
    {
     "data": {
      "image/png": "[encoded data removed]",
      "text/plain": [
       "<Figure size 1000x600 with 1 Axes>"
      ]
     },
     "metadata": {},
     "output_type": "display_data"
    }
   ],
   "source": [
    "# task: statistics\n",
    "# 1. Is the BMI different between the healthy and control group? make the box/violin chart\n",
    "\n",
    "from scipy.stats import ttest_ind\n",
    "\n",
    "healthy_group = merged_data[merged_data['Disease'] == 2]\n",
    "control_group = merged_data[merged_data['Disease'] == 1]\n",
    "\n",
    "t_statistic, p_value = ttest_ind(healthy_group['BMI'], control_group['BMI'])\n",
    "\n",
    "print(\"T-Statistic: \", t_statistic)\n",
    "print(\"P-Value: \", p_value)\n",
    "\n",
    "plt.figure(figsize=(10, 6))\n",
    "sns.boxplot(x='Disease', y='BMI', data=merged_data)\n",
    "plt.xlabel('Group')\n",
    "plt.ylabel('BMI')\n",
    "plt.title('BMI Distribution: Healthy vs Control Group')\n",
    "\n",
    "# Rename x-axis tick labels\n",
    "plt.xticks(ticks=[0, 1], labels=['Control', 'Healthy'])\n",
    "\n",
    "plt.show()"
   ]
  },
  {
   "cell_type": "code",
   "execution_count": 8,
   "metadata": {},
   "outputs": [
    {
     "name": "stdout",
     "output_type": "stream",
     "text": [
      "Chi-Square Statistic:  3.6388665419040187\n",
      "P-value: 0.30319315336229785\n"
     ]
    }
   ],
   "source": [
    "# task: statistics\n",
    "# 2. Is the proportion of Smoke status different between the healthy and control group?\n",
    "\n",
    "from scipy.stats import chi2_contingency\n",
    "\n",
    "# Load the patient information data\n",
    "\n",
    "# Create a contingency table of Smoke status and Disease\n",
    "contingency_table = pd.crosstab(merged_data['Smoking_status'], merged_data['Disease'])\n",
    "\n",
    "# Perform the chi-square test\n",
    "chi2, p_value, _, _ = chi2_contingency(contingency_table)\n",
    "\n",
    "# Print the p-value\n",
    "print(\"Chi-Square Statistic: \", chi2)\n",
    "print(\"P-value:\", p_value)"
   ]
  },
  {
   "cell_type": "code",
   "execution_count": 9,
   "metadata": {},
   "outputs": [
    {
     "name": "stdout",
     "output_type": "stream",
     "text": [
      "Chi-Square Statistic:  40.92706593553571\n",
      "P-Value:  0.008407301538570049\n"
     ]
    }
   ],
   "source": [
    "# task: statistics\n",
    "# 3. Is the smoke status related to the number of Hospital visits regardless of the disease? (ignore the \"Prefer not to answer\")\n",
    "\n",
    "from scipy.stats import chi2_contingency\n",
    "\n",
    "# Filter the merged data to include only the desired smoke statuses\n",
    "smoke_statuses = ['Never', 'Previous', 'Current']\n",
    "filtered_data = merged_data[merged_data['Smoking_status'].isin(smoke_statuses)]\n",
    "\n",
    "contingency_table = pd.crosstab(filtered_data['Smoking_status'], filtered_data['Number_of_visit'])\n",
    "\n",
    "chi2, p_value, _, _ = chi2_contingency(contingency_table)\n",
    "\n",
    "# Print the chi-square test results\n",
    "print(\"Chi-Square Statistic: \", chi2)\n",
    "print(\"P-Value: \", p_value)"
   ]
  },
  {
   "cell_type": "code",
   "execution_count": 10,
   "metadata": {},
   "outputs": [
    {
     "name": "stdout",
     "output_type": "stream",
     "text": [
      "T-Statistic: -0.8914\n",
      "P-Value: 0.3729\n"
     ]
    }
   ],
   "source": [
    "# task: statistics\n",
    "# 4. Is the number of visits higher in the Disease group than in the Healthy group?\n",
    "\n",
    "# Get the number of visits for the Disease group\n",
    "disease_visits = merged_data.loc[merged_data['Disease'] == 1, 'Number_of_visit'].dropna()\n",
    "\n",
    "# Get the number of visits for the Healthy group\n",
    "healthy_visits = merged_data.loc[merged_data['Disease'] == 2, 'Number_of_visit'].dropna()\n",
    "\n",
    "# Perform the t-test\n",
    "t_statistic, p_value = stats.ttest_ind(disease_visits, healthy_visits, equal_var=False)\n",
    "\n",
    "# Print the t-statistic and p-value\n",
    "print(\"T-Statistic: {:.4f}\".format(t_statistic))\n",
    "print(\"P-Value: {:.4f}\".format(p_value))"
   ]
  },
  {
   "cell_type": "code",
   "execution_count": 11,
   "metadata": {},
   "outputs": [
    {
     "name": "stdout",
     "output_type": "stream",
     "text": [
      "Male Current Smoking Percentage: 15.69%\n",
      "Female Current Smoking Percentage: 16.94%\n",
      "Chi-square statistic: 0.46\n",
      "p-value: 0.4958\n"
     ]
    }
   ],
   "source": [
    "# task: statistics\n",
    "# 5. Do Male has a higher current smoke percentage compared to Female?\n",
    "\n",
    "# Load Patient Information data\n",
    "url = \"https://raw.githubusercontent.com/WHPAN0108/BHT-DataScience-S23/main/data_clean/data/patient_info.csv\"\n",
    "patient_information = pd.read_csv(url)\n",
    "\n",
    "# Create a contingency table of smoking status and sex\n",
    "contingency_table = pd.crosstab(patient_information['Smoking_status'], patient_information['Sex'])\n",
    "#print(contingency_table)\n",
    "\n",
    "# Extract counts for male and female current smokers\n",
    "male_current_smokers = contingency_table.loc['Current', 'Male']\n",
    "female_current_smokers = contingency_table.loc['Current', 'Female']\n",
    "\n",
    "# Calculate percentages\n",
    "total_male_smokers = contingency_table['Male'].sum()\n",
    "total_female_smokers = contingency_table['Female'].sum()\n",
    "male_smoking_percentage = male_current_smokers / total_male_smokers * 100\n",
    "female_smoking_percentage = female_current_smokers / total_female_smokers * 100\n",
    "\n",
    "observed = [[male_current_smokers, female_current_smokers],\n",
    "            [total_male_smokers - male_current_smokers, total_female_smokers - female_current_smokers]]\n",
    "#print(observed)\n",
    "\n",
    "chi2, p_value, _, _ = chi2_contingency(observed)\n",
    "\n",
    "print(\"Male Current Smoking Percentage: {:.2f}%\".format(male_smoking_percentage))\n",
    "print(\"Female Current Smoking Percentage: {:.2f}%\".format(female_smoking_percentage))\n",
    "print(\"Chi-square statistic: {:.2f}\".format(chi2))\n",
    "print(\"p-value: {:.4f}\".format(p_value))"
   ]
  }
 ],
 "metadata": {
  "kernelspec": {
   "display_name": "pandas",
   "language": "python",
   "name": "python3"
  },
  "language_info": {
   "codemirror_mode": {
    "name": "ipython",
    "version": 3
   },
   "file_extension": ".py",
   "mimetype": "text/x-python",
   "name": "python",
   "nbconvert_exporter": "python",
   "pygments_lexer": "ipython3",
   "version": "3.10.11"
  },
  "orig_nbformat": 4
 },
 "nbformat": 4,
 "nbformat_minor": 2
}
